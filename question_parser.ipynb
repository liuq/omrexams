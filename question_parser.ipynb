{
 "cells": [
  {
   "cell_type": "code",
   "execution_count": 1,
   "metadata": {},
   "outputs": [],
   "source": [
    "import mistune\n",
    "import yaml\n",
    "import re\n",
    "from mdrenderer import MdRenderer"
   ]
  },
  {
   "cell_type": "code",
   "execution_count": 70,
   "metadata": {},
   "outputs": [],
   "source": [
    "class QuestionRenderer(MdRenderer):\n",
    "    def __init__(self):\n",
    "        super().__init__()\n",
    "        self.current_topic = None\n",
    "        self.questions = {}\n",
    "        self.answer_re = re.compile(r\"(\\[[ |x]\\])\\s+(.*)\")\n",
    "        self.answers_started = False\n",
    "            \n",
    "    def header(self, text, level, raw=None):\n",
    "        r = super().header(text, level, raw)\n",
    "        if level == 1:\n",
    "            self.current_topic = r\n",
    "            self.questions[self.current_topic] = []\n",
    "        elif level == 2:\n",
    "            self.questions[self.current_topic].append((r, []))\n",
    "        else:\n",
    "            self.questions[self.current_topic][-1] = (self.questions[self.current_topic][-1][0] + '\\n\\n' + r, self.questions[self.current_topic][-1][1])\n",
    "        return \"\"   \n",
    "    \n",
    "    def paragraph(self, text):\n",
    "        r = super().paragraph(text)\n",
    "        if self.answers_started:\n",
    "            raise ValueError(\"Answers lists couldn't be interrupted by paragraphs\")\n",
    "        if self.current_topic is not None:\n",
    "            self.questions[self.current_topic][-1] = (self.questions[self.current_topic][-1][0] + '\\n\\n' + r, self.questions[self.current_topic][-1][1])\n",
    "        return \"\"    \n",
    "    \n",
    "    def table(self, header, body):\n",
    "        r = super().table(header, body)\n",
    "        self.questions[self.current_topic][-1] = (self.questions[self.current_topic][-1][0] + '\\n\\n' + r, self.questions[self.current_topic][-1][1])\n",
    "        return \"\"            \n",
    "    \n",
    "    def _add_answer(self, text):    \n",
    "        m = self.answer_re.match(text)\n",
    "        if not m:\n",
    "            raise ValueError(\"Answer does not match the expected format ({})\".format(text))\n",
    "        self.questions[self.current_topic][-1][1].append((m.group(1) == \"[x]\", m.group(2)))\n",
    "        \n",
    "    def list(self, text, ordered=True):\n",
    "        r = ''\n",
    "        self.answers_started = True\n",
    "        while text:\n",
    "            text, type, t = MdRenderer.get_block(text)\n",
    "            if type == 'l':\n",
    "                self._add_answer(t)\n",
    "        #for t in self.questions[self.current_topic][-1][1]:\n",
    "        #    r += (ordered and ('# ' + t[1]) or ('* ' + t[1])) + '\\n'        \n",
    "        self.answers_started = False\n",
    "        return \"\"\n",
    "    \n",
    "renderer = QuestionRenderer()"
   ]
  },
  {
   "cell_type": "code",
   "execution_count": 73,
   "metadata": {},
   "outputs": [],
   "source": [
    "markdown = mistune.Markdown()"
   ]
  },
  {
   "cell_type": "code",
   "execution_count": 75,
   "metadata": {},
   "outputs": [
    {
     "name": "stdout",
     "output_type": "stream",
     "text": [
      "<h1>HTML e Web</h1>\n",
      "<hr>\n",
      "<h2>Cos'è un attributo?</h2>\n",
      "<table>\n",
      "<thead><tr>\n",
      "<th>a</th>\n",
      "<th>b</th>\n",
      "</tr>\n",
      "</thead>\n",
      "<tbody>\n",
      "<tr>\n",
      "<td>3</td>\n",
      "<td>5</td>\n",
      "</tr>\n",
      "</tbody>\n",
      "</table>\n",
      "<ul>\n",
      "<li>[x] un parametro usato all'interno dei tag per specificare informazioni aggiuntive</li>\n",
      "<li>[ ] una proprietà di un'entità</li>\n",
      "<li>[ ] il colore di sfondo di una pagina </li>\n",
      "</ul>\n",
      "<hr>\n",
      "<h2>Cos'è un'ancora?</h2>\n",
      "<ul>\n",
      "<li>[x] un tag HTML che specifica un collegamento</li>\n",
      "<li>[x] il testo associato al riferimento evidenziato nel documento</li>\n",
      "<li>[ ] una ripetizione di uno o più tag</li>\n",
      "</ul>\n",
      "<hr>\n",
      "<h2>Di cosa si occupa il World-Wide Web Consortium (W3C)</h2>\n",
      "<ul>\n",
      "<li>[x] di definire standard mondiali riguardanti il Web</li>\n",
      "<li>[ ] l'assegnazione dei nomi di dominio</li>\n",
      "<li>[ ] gestisce gli indirizzi IP statici</li>\n",
      "</ul>\n",
      "<hr>\n",
      "<h2>Un cookie...</h2>\n",
      "<ul>\n",
      "<li>[x] è un informazione utilizzata da un server web per registrare informazioni su un computer client</li>\n",
      "<li>[x] viene impostato dal server web e reinviato dal client ad ogni successiva richiesta</li>\n",
      "<li>[ ] è parte fondamentale del protocollo HTTP</li>\n",
      "</ul>\n",
      "\n"
     ]
    }
   ],
   "source": [
    "filename = 'html.md'\n",
    "with open('questions/{}'.format(filename), 'r') as f:    \n",
    "    questions = f.read().split(r\"\\n---\")\n",
    "    for question in questions:\n",
    "        print(markdown.parse(question))"
   ]
  },
  {
   "cell_type": "code",
   "execution_count": 66,
   "metadata": {},
   "outputs": [
    {
     "data": {
      "text/plain": [
       "{'##HTML e Web\\n\\n': [(\"###Cos'è un attributo?\\n\\n\", [])]}"
      ]
     },
     "execution_count": 66,
     "metadata": {},
     "output_type": "execute_result"
    }
   ],
   "source": [
    "renderer.questions"
   ]
  },
  {
   "cell_type": "code",
   "execution_count": null,
   "metadata": {},
   "outputs": [],
   "source": []
  }
 ],
 "metadata": {
  "kernelspec": {
   "display_name": "Python 3",
   "language": "python",
   "name": "python3"
  },
  "language_info": {
   "codemirror_mode": {
    "name": "ipython",
    "version": 3
   },
   "file_extension": ".py",
   "mimetype": "text/x-python",
   "name": "python",
   "nbconvert_exporter": "python",
   "pygments_lexer": "ipython3",
   "version": "3.7.2"
  }
 },
 "nbformat": 4,
 "nbformat_minor": 2
}

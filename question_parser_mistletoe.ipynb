{
 "cells": [
  {
   "cell_type": "code",
   "execution_count": 2,
   "metadata": {},
   "outputs": [],
   "source": [
    "import mistletoe\n",
    "import yaml\n",
    "import re\n",
    "from mistletoe.latex_renderer import LaTeXRenderer"
   ]
  },
  {
   "cell_type": "code",
   "execution_count": 3,
   "metadata": {},
   "outputs": [],
   "source": [
    "# Define a custom renderer back to markdown so that it can be further processed \n",
    "# into latex later\n",
    "class QuestionRenderer(LaTeXRenderer):       \n",
    "    def render_document(self, token):\n",
    "        return self.render_inner(token)"
   ]
  },
  {
   "cell_type": "code",
   "execution_count": 4,
   "metadata": {},
   "outputs": [
    {
     "name": "stdout",
     "output_type": "stream",
     "text": [
      "\n",
      "\\section{HTML e Web}\n",
      "\n",
      "\n",
      "\\subsection{Cos'è un attributo?}\n",
      "\\begin{itemize}\n",
      "\\item \n",
      "[x] un parametro usato all'interno dei tag per specificare informazioni aggiuntive\n",
      "\n",
      "\\item \n",
      "[ ] una proprietà di un'entità\n",
      "\n",
      "\\item \n",
      "[ ] il colore di sfondo di una pagina $\\phi = \\sqrt{2}$\n",
      "\n",
      "\\end{itemize}\n",
      "\n",
      "\n",
      "\\subsection{Cos'è un'ancora?}\n",
      "\\begin{itemize}\n",
      "\\item \n",
      "[x] un tag HTML che specifica un collegamento\n",
      "\n",
      "\\item \n",
      "[x] il testo associato al riferimento evidenziato nel documento\n",
      "\n",
      "\\item \n",
      "[ ] una ripetizione di uno o più tag\n",
      "\n",
      "\\end{itemize}\n",
      "\n",
      "\n",
      "\\subsection{Di cosa si occupa il World-Wide Web Consortium (W3C)}\n",
      "\\begin{itemize}\n",
      "\\item \n",
      "[x] di definire standard mondiali riguardanti il Web\n",
      "\n",
      "\\item \n",
      "[ ] l'assegnazione dei nomi di dominio\n",
      "\n",
      "\\item \n",
      "[ ] gestisce gli indirizzi IP statici\n",
      "\n",
      "\\end{itemize}\n",
      "\n",
      "\n",
      "\\subsection{Un cookie...}\n",
      "\\begin{itemize}\n",
      "\\item \n",
      "[x] è un informazione utilizzata da un server web per registrare informazioni su un computer client\n",
      "\n",
      "\\item \n",
      "[x] viene impostato dal server web e reinviato dal client ad ogni successiva richiesta\n",
      "\n",
      "\\item \n",
      "[ ] è parte fondamentale del protocollo HTTP\n",
      "\n",
      "\\end{itemize}\n",
      "\n"
     ]
    }
   ],
   "source": [
    "filename = 'html.md'\n",
    "with open('questions/{}'.format(filename), 'r') as f:    \n",
    "    questions = re.compile(r\"\\n---\").split(f.read())\n",
    "    for question in questions:\n",
    "        print(mistletoe.markdown(question, QuestionRenderer))"
   ]
  },
  {
   "cell_type": "code",
   "execution_count": null,
   "metadata": {},
   "outputs": [],
   "source": []
  }
 ],
 "metadata": {
  "kernelspec": {
   "display_name": "Python 3",
   "language": "python",
   "name": "python3"
  },
  "language_info": {
   "codemirror_mode": {
    "name": "ipython",
    "version": 3
   },
   "file_extension": ".py",
   "mimetype": "text/x-python",
   "name": "python",
   "nbconvert_exporter": "python",
   "pygments_lexer": "ipython3",
   "version": "3.7.2"
  }
 },
 "nbformat": 4,
 "nbformat_minor": 2
}
